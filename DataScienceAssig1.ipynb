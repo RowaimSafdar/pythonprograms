{
 "cells": [
  {
   "cell_type": "markdown",
   "id": "2cf4a3b9",
   "metadata": {},
   "source": [
    "# Solution to  Question 1"
   ]
  },
  {
   "cell_type": "code",
   "execution_count": 19,
   "id": "e06376b5",
   "metadata": {},
   "outputs": [
    {
     "name": "stdout",
     "output_type": "stream",
     "text": [
      "Twinkle Twinkle little star \n",
      "\t how i wonder what you are \n",
      " \t\t up above the world so high  \n",
      "\t\t like a diamond in the sky \n",
      " Twinkle Twinkle little star \n",
      " How i wonder what you are \n"
     ]
    }
   ],
   "source": [
    "print(\"Twinkle Twinkle little star \\n\\t how i wonder what you are \\n \\t\\t up above the world so high  \\n\\t\\t like a diamond in the sky \\n Twinkle Twinkle little star \\n How i wonder what you are \")"
   ]
  },
  {
   "cell_type": "markdown",
   "id": "2f4f4722",
   "metadata": {},
   "source": [
    "# Solution to Question 2"
   ]
  },
  {
   "cell_type": "code",
   "execution_count": 27,
   "id": "21538734",
   "metadata": {},
   "outputs": [
    {
     "name": "stdout",
     "output_type": "stream",
     "text": [
      "Python version\n",
      "3.9.7 (default, Sep 16 2021, 16:59:28) [MSC v.1916 64 bit (AMD64)]\n",
      "Version info.\n",
      "sys.version_info(major=3, minor=9, micro=7, releaselevel='final', serial=0)\n"
     ]
    }
   ],
   "source": [
    "import sys\n",
    "print(\"Python version\")\n",
    "print (sys.version)\n",
    "print(\"Version info.\")\n",
    "print (sys.version_info)\n"
   ]
  },
  {
   "cell_type": "markdown",
   "id": "545d14f1",
   "metadata": {},
   "source": [
    "# Solution to Question 3 "
   ]
  },
  {
   "cell_type": "code",
   "execution_count": 28,
   "id": "534e60dd",
   "metadata": {},
   "outputs": [
    {
     "name": "stdout",
     "output_type": "stream",
     "text": [
      "Current date and time : \n",
      "2021-12-31 22:23:35\n"
     ]
    }
   ],
   "source": [
    "import datetime\n",
    "now = datetime.datetime.now()\n",
    "print (\"Current date and time : \")\n",
    "print (now.strftime(\"%Y-%m-%d %H:%M:%S\"))\n"
   ]
  },
  {
   "cell_type": "markdown",
   "id": "a377fde2",
   "metadata": {},
   "source": [
    "# Solution to Question 4"
   ]
  },
  {
   "cell_type": "code",
   "execution_count": 37,
   "id": "925e8e95",
   "metadata": {},
   "outputs": [
    {
     "name": "stdout",
     "output_type": "stream",
     "text": [
      "Enter the radius of cricle:5\n",
      "The area of circle with radius\t5.0is:\t78.53981633974483\n"
     ]
    }
   ],
   "source": [
    "from math import pi\n",
    "rad = float(input(\"Enter the radius of cricle:\"))\n",
    "print (\"The area of circle with radius\\t\" + str(rad) + \"is:\\t\"+ (str(pi * rad**2)))"
   ]
  },
  {
   "cell_type": "markdown",
   "id": "6df761ec",
   "metadata": {},
   "source": [
    "# Solution to Question 5"
   ]
  },
  {
   "cell_type": "code",
   "execution_count": 41,
   "id": "5b0d79d8",
   "metadata": {},
   "outputs": [
    {
     "name": "stdout",
     "output_type": "stream",
     "text": [
      "Enter your first name:Rowaim\n",
      "Enter your last name :Safdar\n",
      "Safdar Rowaim\n"
     ]
    }
   ],
   "source": [
    "fname = input(\"Enter your first name:\")\n",
    "lname = input(\"Enter your last name :\")\n",
    "print(lname +\" \"+ fname)"
   ]
  },
  {
   "cell_type": "markdown",
   "id": "58d6135c",
   "metadata": {},
   "source": [
    "# Solution to Question 6"
   ]
  },
  {
   "cell_type": "code",
   "execution_count": 43,
   "id": "6852bada",
   "metadata": {},
   "outputs": [
    {
     "name": "stdout",
     "output_type": "stream",
     "text": [
      "Enter first number:5\n",
      "Enter second number:2\n",
      "7\n"
     ]
    }
   ],
   "source": [
    "num1 = input(\"Enter first number:\")\n",
    "num2 = input(\"Enter second number:\")\n",
    "result = int(num1) + int(num2) \n",
    "print(result)"
   ]
  }
 ],
 "metadata": {
  "kernelspec": {
   "display_name": "Python 3 (ipykernel)",
   "language": "python",
   "name": "python3"
  },
  "language_info": {
   "codemirror_mode": {
    "name": "ipython",
    "version": 3
   },
   "file_extension": ".py",
   "mimetype": "text/x-python",
   "name": "python",
   "nbconvert_exporter": "python",
   "pygments_lexer": "ipython3",
   "version": "3.9.7"
  }
 },
 "nbformat": 4,
 "nbformat_minor": 5
}
